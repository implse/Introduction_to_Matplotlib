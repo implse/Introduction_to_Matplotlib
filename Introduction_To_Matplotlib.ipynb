{
 "cells": [
  {
   "cell_type": "markdown",
   "id": "cb4114a7",
   "metadata": {},
   "source": [
    "# Matplotlib For Data Visualisation"
   ]
  },
  {
   "cell_type": "markdown",
   "id": "9b0e030a",
   "metadata": {},
   "source": [
    "`Matplotlib` is a Python package designed for creating quality data visualisation plots. \n",
    "\n",
    "The project was started by John Hunter in 2002 to enable a MATLAB-like plotting interface in Python."
   ]
  },
  {
   "cell_type": "markdown",
   "id": "df23152d",
   "metadata": {},
   "source": [
    "## Visualisation types with `matplotlib` "
   ]
  },
  {
   "cell_type": "markdown",
   "id": "8d22d8ec",
   "metadata": {},
   "source": [
    "- Line Chart and Sub-plots\n",
    "- Scatter Plot\n",
    "- Histogram\n",
    "- Box Plot\n",
    "- Pie Chart\n",
    "- Bar Chart"
   ]
  },
  {
   "cell_type": "markdown",
   "id": "dd21bf4e",
   "metadata": {},
   "source": [
    "## Import `matplotlib`"
   ]
  },
  {
   "cell_type": "markdown",
   "id": "689d3df8",
   "metadata": {},
   "source": [
    "`matplotlib.pyplot` is a state-based interface to matplotlib."
   ]
  },
  {
   "cell_type": "code",
   "execution_count": 4,
   "id": "6ef9814d",
   "metadata": {},
   "outputs": [],
   "source": [
    "import matplotlib.pyplot as plt"
   ]
  },
  {
   "cell_type": "markdown",
   "id": "06096832",
   "metadata": {},
   "source": [
    "## Plot a Simple graph with `pyplot`"
   ]
  },
  {
   "cell_type": "markdown",
   "id": "5025a592",
   "metadata": {},
   "source": [
    "First, we need to import `NumPy` to creare a `ndarray` of values with `np.arange`."
   ]
  },
  {
   "cell_type": "code",
   "execution_count": 19,
   "id": "ab75eb9e",
   "metadata": {},
   "outputs": [],
   "source": [
    "import numpy as np"
   ]
  },
  {
   "cell_type": "code",
   "execution_count": 20,
   "id": "a2a0fddd",
   "metadata": {},
   "outputs": [
    {
     "name": "stdout",
     "output_type": "stream",
     "text": [
      "[ 0  1  2  3  4  5  6  7  8  9 10 11]\n"
     ]
    }
   ],
   "source": [
    "values = np.arange(12)\n",
    "print(values)"
   ]
  },
  {
   "cell_type": "code",
   "execution_count": 21,
   "id": "a1ce0560",
   "metadata": {},
   "outputs": [
    {
     "data": {
      "text/plain": [
       "[<matplotlib.lines.Line2D at 0x1921fda4790>]"
      ]
     },
     "execution_count": 21,
     "metadata": {},
     "output_type": "execute_result"
    },
    {
     "data": {
      "image/png": "[encoded data removed]",
      "text/plain": [
       "<Figure size 432x288 with 1 Axes>"
      ]
     },
     "metadata": {
      "needs_background": "light"
     },
     "output_type": "display_data"
    }
   ],
   "source": [
    "plt.plot(values)"
   ]
  },
  {
   "cell_type": "code",
   "execution_count": null,
   "id": "52c619c5",
   "metadata": {},
   "outputs": [],
   "source": []
  }
 ],
 "metadata": {
  "kernelspec": {
   "display_name": "Python 3 (ipykernel)",
   "language": "python",
   "name": "python3"
  },
  "language_info": {
   "codemirror_mode": {
    "name": "ipython",
    "version": 3
   },
   "file_extension": ".py",
   "mimetype": "text/x-python",
   "name": "python",
   "nbconvert_exporter": "python",
   "pygments_lexer": "ipython3",
   "version": "3.8.8"
  }
 },
 "nbformat": 4,
 "nbformat_minor": 5
}
