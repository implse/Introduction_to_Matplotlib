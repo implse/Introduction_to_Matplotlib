{
 "cells": [
  {
   "cell_type": "markdown",
   "id": "f2ba8dfc",
   "metadata": {},
   "source": [
    "# Matplotlib For Data Visualisation"
   ]
  },
  {
   "cell_type": "markdown",
   "id": "47efd8d0",
   "metadata": {},
   "source": [
    "`Matplotlib` is a multiplatform `data` visualization library built on top of `NumPy arrays`, and\n",
    "designed to work with the  scientific computing `SciPy` stack.\n",
    "\n",
    "The project was started by `John Hunter` in 2002 to enable a `MATLAB-like` plotting interface in `Python`."
   ]
  },
  {
   "cell_type": "markdown",
   "id": "1a0dfd8d",
   "metadata": {},
   "source": [
    "## Visualisation types with `matplotlib` "
   ]
  },
  {
   "cell_type": "markdown",
   "id": "dffc3418",
   "metadata": {},
   "source": [
    "- Line Chart and Sub-plots\n",
    "- Scatter Plot\n",
    "- Histogram\n",
    "- Box Plot\n",
    "- Pie Chart\n",
    "- Bar Chart"
   ]
  },
  {
   "cell_type": "markdown",
   "id": "fb4c1fc5",
   "metadata": {},
   "source": [
    "## Import `matplotlib`"
   ]
  },
  {
   "cell_type": "markdown",
   "id": "8a95fb73",
   "metadata": {},
   "source": [
    "`matplotlib.pyplot` is a state-based interface to matplotlib."
   ]
  },
  {
   "cell_type": "code",
   "execution_count": 1,
   "id": "9ced4fd7",
   "metadata": {},
   "outputs": [],
   "source": [
    "import matplotlib.pyplot as plt"
   ]
  },
  {
   "cell_type": "markdown",
   "id": "6377c707",
   "metadata": {},
   "source": [
    "As noted in the documentation, there are essentially two ways to use `Matplotlib`:\n",
    "    \n",
    "- `Pyplot style`: rely on the `pyplot` module to automatically create and manage the figures and axes.\n",
    "\n",
    "- `Object Oriented style` : create figures and axes explicitly, and call methods on them."
   ]
  },
  {
   "cell_type": "markdown",
   "id": "ea19270c",
   "metadata": {},
   "source": [
    "## Plot a Simple graph with `pyplot`"
   ]
  },
  {
   "cell_type": "markdown",
   "id": "73311102",
   "metadata": {},
   "source": [
    "First, we need to import `NumPy` to creare a `ndarray` of values with `np.arange`."
   ]
  },
  {
   "cell_type": "code",
   "execution_count": 2,
   "id": "3c35b0ee",
   "metadata": {},
   "outputs": [],
   "source": [
    "import numpy as np"
   ]
  },
  {
   "cell_type": "markdown",
   "id": "68debcfd",
   "metadata": {},
   "source": [
    "### Linear values"
   ]
  },
  {
   "cell_type": "code",
   "execution_count": 3,
   "id": "f6b618ac",
   "metadata": {},
   "outputs": [
    {
     "name": "stdout",
     "output_type": "stream",
     "text": [
      "[ 0  1  2  3  4  5  6  7  8  9 10 11]\n"
     ]
    }
   ],
   "source": [
    "values = np.arange(12)\n",
    "print(values)"
   ]
  },
  {
   "cell_type": "code",
   "execution_count": 4,
   "id": "e2bf875e",
   "metadata": {},
   "outputs": [
    {
     "data": {
      "image/png": "[encoded data removed]",
      "text/plain": [
       "<Figure size 432x288 with 1 Axes>"
      ]
     },
     "metadata": {
      "needs_background": "light"
     },
     "output_type": "display_data"
    }
   ],
   "source": [
    "plt.plot(values)\n",
    "plt.grid(True)\n",
    "plt.show()"
   ]
  },
  {
   "cell_type": "markdown",
   "id": "9b5b99e3",
   "metadata": {},
   "source": [
    "### Random values"
   ]
  },
  {
   "cell_type": "code",
   "execution_count": 16,
   "id": "4231362b",
   "metadata": {},
   "outputs": [
    {
     "name": "stdout",
     "output_type": "stream",
     "text": [
      "[ 8  3  7  8  6  3  5  2  4  8 10  7]\n",
      "[ 0  1  2  3  4  5  6  7  8  9 10 11]\n"
     ]
    }
   ],
   "source": [
    "height = np.random.randint(1, 12, size=12)\n",
    "print(height)\n",
    "values = np.arange(12)\n",
    "print(values)"
   ]
  },
  {
   "cell_type": "code",
   "execution_count": 17,
   "id": "94f75cf9",
   "metadata": {},
   "outputs": [
    {
     "data": {
      "image/png": "[encoded data removed]",
      "text/plain": [
       "<Figure size 432x288 with 1 Axes>"
      ]
     },
     "metadata": {
      "needs_background": "light"
     },
     "output_type": "display_data"
    }
   ],
   "source": [
    "plt.bar(values, height)\n",
    "plt.grid(True)\n",
    "plt.show()"
   ]
  },
  {
   "cell_type": "markdown",
   "id": "22fa85e9",
   "metadata": {},
   "source": [
    "### Exploring Built-in `plt`  Methods"
   ]
  },
  {
   "cell_type": "code",
   "execution_count": null,
   "id": "25b3a9d9",
   "metadata": {},
   "outputs": [],
   "source": [
    "plt_methods = [m for m in dir(plt) if not m.startswith(\"_\")]\n",
    "print(plt_methods)"
   ]
  },
  {
   "cell_type": "markdown",
   "id": "8b6155a9",
   "metadata": {},
   "source": [
    "## Pyplot vs. Object-Oriented Interface"
   ]
  },
  {
   "cell_type": "markdown",
   "id": "a034a5a3",
   "metadata": {},
   "source": [
    "There’re two approaches to `plot` in `Matplotlib`\n",
    "\n",
    "- `state base` with `pyplot`\n",
    "\n",
    "- `object oriented interface`"
   ]
  },
  {
   "cell_type": "markdown",
   "id": "7cd10f04",
   "metadata": {},
   "source": [
    "### Pyplot Interface"
   ]
  },
  {
   "cell_type": "markdown",
   "id": "9625eaff",
   "metadata": {},
   "source": [
    "`matplotlib` on the surface is made to imitate MATLAB's method of generating `plots`, which is called `pyplot`. All the `pyplot` commands make changes and modify the same figure. This is a `state-based interface`, where the state (i.e., the figure) is preserved through various function calls (i.e., the methods that modify the figure). This interface allows us to quickly and easily generate `plots`. The `state-based` nature of the interface allows us to add elements and/or modify the `plot` as we need, when we need it."
   ]
  },
  {
   "cell_type": "markdown",
   "id": "a5d5fd48",
   "metadata": {},
   "source": [
    "### State base with `pyplot` as `plt`"
   ]
  },
  {
   "cell_type": "markdown",
   "id": "b40d0b75",
   "metadata": {},
   "source": [
    "To get acquainted with the basics of `plotting` with `matplotlib`, let's try plotting how much distance an object under free-fall travels with respect to time and also, its velocity at each time step."
   ]
  },
  {
   "cell_type": "code",
   "execution_count": null,
   "id": "203a151d",
   "metadata": {},
   "outputs": [],
   "source": [
    "time = np.arange(0., 10., 0.2)\n",
    "velocity = np.zeros_like(time, dtype=float)\n",
    "distance = np.zeros_like(time, dtype=float)\n",
    "g = 9.8 # m/s^2\n",
    "velocity = g * time\n",
    "distance = 0.5 * g * np.power(time, 2)"
   ]
  },
  {
   "cell_type": "code",
   "execution_count": null,
   "id": "c37ec3fe",
   "metadata": {},
   "outputs": [],
   "source": [
    "# state base example\n",
    "#plt.figure(figsize=(5, 5), dpi=100)\n",
    "plt.figure\n",
    "plt.plot(time, distance)\n",
    "plt.xlabel(\"Time\")\n",
    "plt.ylabel(\"Distance\")\n",
    "plt.grid(True)"
   ]
  },
  {
   "cell_type": "markdown",
   "id": "1a657ca5",
   "metadata": {},
   "source": [
    "### Object-Oriented Interface with `figure` and `axes`"
   ]
  },
  {
   "cell_type": "markdown",
   "id": "7cac27ca",
   "metadata": {},
   "source": [
    "In `object-oriented interface` a `figure` is divided into two different objects. \n",
    "\n",
    "- A `Figure` objects.\n",
    "- A `Axes` objects"
   ]
  },
  {
   "cell_type": "markdown",
   "id": "8ababd06",
   "metadata": {},
   "source": [
    "A `Figure` object can contain one or more `Axes` objects. (The top level container for all the plot elements.)\n",
    "\n",
    "One `Axes` represents one plot inside `Figure`. The `Axes` contains most of the `figure` elements and sets the coordinate system."
   ]
  },
  {
   "cell_type": "code",
   "execution_count": 21,
   "id": "d3f294b0",
   "metadata": {
    "scrolled": true
   },
   "outputs": [
    {
     "data": {
      "image/png": "[encoded data removed]",
      "text/plain": [
       "<Figure size 432x288 with 1 Axes>"
      ]
     },
     "metadata": {
      "needs_background": "light"
     },
     "output_type": "display_data"
    }
   ],
   "source": [
    "x = np.linspace(0, 2 * np.pi, 200)\n",
    "y = np.sin(x)\n",
    "\n",
    "figure, axes = plt.subplots()\n",
    "axes.plot(x, y)\n",
    "plt.grid(True)\n",
    "plt.show()"
   ]
  },
  {
   "cell_type": "code",
   "execution_count": 20,
   "id": "18edc1ab",
   "metadata": {},
   "outputs": [
    {
     "name": "stdout",
     "output_type": "stream",
     "text": [
      "<class 'matplotlib.figure.Figure'>\n",
      "<class 'matplotlib.axes._subplots.AxesSubplot'>\n"
     ]
    }
   ],
   "source": [
    "print(type(figure))\n",
    "print(type(axes))"
   ]
  },
  {
   "cell_type": "markdown",
   "id": "788a77c8",
   "metadata": {},
   "source": [
    "### `Matplotlib` documentation"
   ]
  },
  {
   "cell_type": "markdown",
   "id": "f8f2d8c3",
   "metadata": {},
   "source": [
    "https://matplotlib.org/stable/users/index.html"
   ]
  },
  {
   "cell_type": "markdown",
   "id": "0cfa926d",
   "metadata": {},
   "source": [
    "https://matplotlib.org/stable/plot_types/index.html"
   ]
  },
  {
   "cell_type": "markdown",
   "id": "9e7c5862",
   "metadata": {},
   "source": [
    "https://matplotlib.org/cheatsheets/_images/cheatsheets-1.png"
   ]
  },
  {
   "cell_type": "markdown",
   "id": "06c82f30",
   "metadata": {},
   "source": [
    "https://matplotlib.org/stable/tutorials/index.html"
   ]
  },
  {
   "cell_type": "code",
   "execution_count": null,
   "id": "5fc4a404",
   "metadata": {},
   "outputs": [],
   "source": []
  }
 ],
 "metadata": {
  "kernelspec": {
   "display_name": "Python 3 (ipykernel)",
   "language": "python",
   "name": "python3"
  },
  "language_info": {
   "codemirror_mode": {
    "name": "ipython",
    "version": 3
   },
   "file_extension": ".py",
   "mimetype": "text/x-python",
   "name": "python",
   "nbconvert_exporter": "python",
   "pygments_lexer": "ipython3",
   "version": "3.8.8"
  }
 },
 "nbformat": 4,
 "nbformat_minor": 5
}
